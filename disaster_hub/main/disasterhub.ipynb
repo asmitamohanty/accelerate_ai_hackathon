{
 "cells": [
  {
   "cell_type": "code",
   "execution_count": 1,
   "metadata": {
    "tags": []
   },
   "outputs": [
    {
     "data": {
      "text/plain": [
       "True"
      ]
     },
     "execution_count": 1,
     "metadata": {},
     "output_type": "execute_result"
    }
   ],
   "source": [
    "from dotenv import load_dotenv\n",
    "import os\n",
    "load_dotenv()"
   ]
  },
  {
   "cell_type": "code",
   "execution_count": 2,
   "metadata": {
    "tags": []
   },
   "outputs": [],
   "source": [
    "project_id = os.getenv(\"PROJECT_ID\")\n",
    "location = os.getenv(\"LOCATION\")\n",
    "bigquery_table_id = os.getenv(\"BIGQUERY_TABLE_ID\")"
   ]
  },
  {
   "cell_type": "code",
   "execution_count": 3,
   "metadata": {
    "tags": []
   },
   "outputs": [],
   "source": [
    "index_endpoint_id = os.getenv(\"INDEX_ENDPOINT\")\n",
    "deployed_index_id = os.getenv(\"DEPLOYED_INDEX_ID\")"
   ]
  },
  {
   "cell_type": "code",
   "execution_count": 5,
   "metadata": {
    "tags": []
   },
   "outputs": [],
   "source": [
    "import pandas as pd\n",
    "import re\n",
    "import json\n",
    "from google.cloud import storage\n",
    "from sklearn.metrics.pairwise import cosine_similarity\n",
    "import numpy as np\n",
    "from datetime import datetime, timedelta"
   ]
  },
  {
   "cell_type": "code",
   "execution_count": 6,
   "metadata": {
    "tags": []
   },
   "outputs": [],
   "source": [
    "from google.genai.types import EmbedContentConfig\n",
    "from google import genai"
   ]
  },
  {
   "cell_type": "code",
   "execution_count": 7,
   "metadata": {
    "tags": []
   },
   "outputs": [],
   "source": [
    "from google.cloud import aiplatform"
   ]
  },
  {
   "cell_type": "code",
   "execution_count": 8,
   "metadata": {
    "tags": []
   },
   "outputs": [],
   "source": [
    "import streamlit as st\n",
    "from sklearn.metrics.pairwise import cosine_similarity\n",
    "from google.genai import types"
   ]
  },
  {
   "cell_type": "markdown",
   "metadata": {
    "tags": []
   },
   "source": [
    "### Initial Data Extraction from BigQuery"
   ]
  },
  {
   "cell_type": "code",
   "execution_count": 19,
   "metadata": {
    "tags": []
   },
   "outputs": [],
   "source": [
    "from google.cloud import bigquery\n",
    "query = f\"\"\"\n",
    "SELECT\n",
    "  id, title, status, country, date, type, description\n",
    "FROM\n",
    "  `{bigquery_table_id}`\n",
    "WHERE\n",
    "  title != 'test_record'\n",
    "LIMIT 200\n",
    "\"\"\"\n",
    "bigq_client = bigquery.Client()\n",
    "disaster_df = bigq_client.query(query).to_dataframe()"
   ]
  },
  {
   "cell_type": "code",
   "execution_count": 20,
   "metadata": {},
   "outputs": [
    {
     "data": {
      "text/html": [
       "<div>\n",
       "<style scoped>\n",
       "    .dataframe tbody tr th:only-of-type {\n",
       "        vertical-align: middle;\n",
       "    }\n",
       "\n",
       "    .dataframe tbody tr th {\n",
       "        vertical-align: top;\n",
       "    }\n",
       "\n",
       "    .dataframe thead th {\n",
       "        text-align: right;\n",
       "    }\n",
       "</style>\n",
       "<table border=\"1\" class=\"dataframe\">\n",
       "  <thead>\n",
       "    <tr style=\"text-align: right;\">\n",
       "      <th></th>\n",
       "      <th>id</th>\n",
       "      <th>title</th>\n",
       "      <th>status</th>\n",
       "      <th>country</th>\n",
       "      <th>date</th>\n",
       "      <th>type</th>\n",
       "      <th>description</th>\n",
       "    </tr>\n",
       "  </thead>\n",
       "  <tbody>\n",
       "    <tr>\n",
       "      <th>0</th>\n",
       "      <td>51830</td>\n",
       "      <td>Jordan: Cold Wave - Nov 2023</td>\n",
       "      <td>past</td>\n",
       "      <td>Jordan</td>\n",
       "      <td>2024-02-16T09:45:58+00:00</td>\n",
       "      <td>Cold Wave</td>\n",
       "      <td>Starting in the evening of Sunday, 19/11/2023,...</td>\n",
       "    </tr>\n",
       "    <tr>\n",
       "      <th>1</th>\n",
       "      <td>51871</td>\n",
       "      <td>Mongolia: Dzud - Dec 2023</td>\n",
       "      <td>past</td>\n",
       "      <td>Mongolia</td>\n",
       "      <td>2025-02-03T04:50:55+00:00</td>\n",
       "      <td>Cold Wave</td>\n",
       "      <td>Mongolia is currently facing a severe Dzud. Th...</td>\n",
       "    </tr>\n",
       "    <tr>\n",
       "      <th>2</th>\n",
       "      <td>51879</td>\n",
       "      <td>Lebanon: Cold Wave - Jan 2024</td>\n",
       "      <td>past</td>\n",
       "      <td>Lebanon</td>\n",
       "      <td>2024-04-18T08:05:00+00:00</td>\n",
       "      <td>Cold Wave</td>\n",
       "      <td>Lebanon and the eastern basin of the Mediterra...</td>\n",
       "    </tr>\n",
       "    <tr>\n",
       "      <th>3</th>\n",
       "      <td>51930</td>\n",
       "      <td>Afghanistan: Cold Wave - Mar 2024</td>\n",
       "      <td>past</td>\n",
       "      <td>Afghanistan</td>\n",
       "      <td>2024-06-18T21:04:41+00:00</td>\n",
       "      <td>Cold Wave</td>\n",
       "      <td>On 3 March 2024, the Afghan Red Crescent Socie...</td>\n",
       "    </tr>\n",
       "    <tr>\n",
       "      <th>4</th>\n",
       "      <td>52302</td>\n",
       "      <td>Georgia: Heavy Snowfall and Cold Wave - Feb 2025</td>\n",
       "      <td>past</td>\n",
       "      <td>Georgia</td>\n",
       "      <td>2025-09-17T12:28:39+00:00</td>\n",
       "      <td>Cold Wave</td>\n",
       "      <td>Since 21 February 2025, Western Georgia has be...</td>\n",
       "    </tr>\n",
       "    <tr>\n",
       "      <th>...</th>\n",
       "      <td>...</td>\n",
       "      <td>...</td>\n",
       "      <td>...</td>\n",
       "      <td>...</td>\n",
       "      <td>...</td>\n",
       "      <td>...</td>\n",
       "      <td>...</td>\n",
       "    </tr>\n",
       "    <tr>\n",
       "      <th>195</th>\n",
       "      <td>52306</td>\n",
       "      <td>Tropical Cyclone Jude - Mar 2025</td>\n",
       "      <td>ongoing</td>\n",
       "      <td>Madagascar</td>\n",
       "      <td>2025-04-29T07:38:53+00:00</td>\n",
       "      <td>Tropical Cyclone</td>\n",
       "      <td>According to the Mozambique National Institute...</td>\n",
       "    </tr>\n",
       "    <tr>\n",
       "      <th>196</th>\n",
       "      <td>51880</td>\n",
       "      <td>Chile: Wild Fires - Jan 2024</td>\n",
       "      <td>past</td>\n",
       "      <td>Chile</td>\n",
       "      <td>2024-04-25T18:17:09+00:00</td>\n",
       "      <td>Wild Fire</td>\n",
       "      <td>Wildfires have been burning across parts of ce...</td>\n",
       "    </tr>\n",
       "    <tr>\n",
       "      <th>197</th>\n",
       "      <td>52030</td>\n",
       "      <td>Belize: Wild Fires - May 2024</td>\n",
       "      <td>past</td>\n",
       "      <td>Belize</td>\n",
       "      <td>2024-07-30T19:31:03+00:00</td>\n",
       "      <td>Wild Fire</td>\n",
       "      <td>On May 16, the Toledo District Emergency Opera...</td>\n",
       "    </tr>\n",
       "    <tr>\n",
       "      <th>198</th>\n",
       "      <td>52095</td>\n",
       "      <td>Bolivia: Wild Fires - Jul 2024</td>\n",
       "      <td>past</td>\n",
       "      <td>Bolivia (Plurinational State of)</td>\n",
       "      <td>2025-02-21T15:59:56+00:00</td>\n",
       "      <td>Wild Fire</td>\n",
       "      <td>On 24 July 2024, the Bolivia Ministry of Defen...</td>\n",
       "    </tr>\n",
       "    <tr>\n",
       "      <th>199</th>\n",
       "      <td>52219</td>\n",
       "      <td>Syria: Wild Fires - Oct 2024</td>\n",
       "      <td>past</td>\n",
       "      <td>Syrian Arab Republic</td>\n",
       "      <td>2025-02-03T15:31:33+00:00</td>\n",
       "      <td>Wild Fire</td>\n",
       "      <td>Since October 29, 2024, there has been a marke...</td>\n",
       "    </tr>\n",
       "  </tbody>\n",
       "</table>\n",
       "<p>200 rows × 7 columns</p>\n",
       "</div>"
      ],
      "text/plain": [
       "        id                                             title   status  \\\n",
       "0    51830                      Jordan: Cold Wave - Nov 2023     past   \n",
       "1    51871                         Mongolia: Dzud - Dec 2023     past   \n",
       "2    51879                     Lebanon: Cold Wave - Jan 2024     past   \n",
       "3    51930                 Afghanistan: Cold Wave - Mar 2024     past   \n",
       "4    52302  Georgia: Heavy Snowfall and Cold Wave - Feb 2025     past   \n",
       "..     ...                                               ...      ...   \n",
       "195  52306                  Tropical Cyclone Jude - Mar 2025  ongoing   \n",
       "196  51880                      Chile: Wild Fires - Jan 2024     past   \n",
       "197  52030                     Belize: Wild Fires - May 2024     past   \n",
       "198  52095                    Bolivia: Wild Fires - Jul 2024     past   \n",
       "199  52219                      Syria: Wild Fires - Oct 2024     past   \n",
       "\n",
       "                              country                       date  \\\n",
       "0                              Jordan  2024-02-16T09:45:58+00:00   \n",
       "1                            Mongolia  2025-02-03T04:50:55+00:00   \n",
       "2                             Lebanon  2024-04-18T08:05:00+00:00   \n",
       "3                         Afghanistan  2024-06-18T21:04:41+00:00   \n",
       "4                             Georgia  2025-09-17T12:28:39+00:00   \n",
       "..                                ...                        ...   \n",
       "195                        Madagascar  2025-04-29T07:38:53+00:00   \n",
       "196                             Chile  2024-04-25T18:17:09+00:00   \n",
       "197                            Belize  2024-07-30T19:31:03+00:00   \n",
       "198  Bolivia (Plurinational State of)  2025-02-21T15:59:56+00:00   \n",
       "199              Syrian Arab Republic  2025-02-03T15:31:33+00:00   \n",
       "\n",
       "                 type                                        description  \n",
       "0           Cold Wave  Starting in the evening of Sunday, 19/11/2023,...  \n",
       "1           Cold Wave  Mongolia is currently facing a severe Dzud. Th...  \n",
       "2           Cold Wave  Lebanon and the eastern basin of the Mediterra...  \n",
       "3           Cold Wave  On 3 March 2024, the Afghan Red Crescent Socie...  \n",
       "4           Cold Wave  Since 21 February 2025, Western Georgia has be...  \n",
       "..                ...                                                ...  \n",
       "195  Tropical Cyclone  According to the Mozambique National Institute...  \n",
       "196         Wild Fire  Wildfires have been burning across parts of ce...  \n",
       "197         Wild Fire  On May 16, the Toledo District Emergency Opera...  \n",
       "198         Wild Fire  On 24 July 2024, the Bolivia Ministry of Defen...  \n",
       "199         Wild Fire  Since October 29, 2024, there has been a marke...  \n",
       "\n",
       "[200 rows x 7 columns]"
      ]
     },
     "execution_count": 20,
     "metadata": {},
     "output_type": "execute_result"
    }
   ],
   "source": [
    "disaster_df"
   ]
  },
  {
   "cell_type": "code",
   "execution_count": 11,
   "metadata": {
    "tags": []
   },
   "outputs": [],
   "source": [
    "disaster_df.to_csv(\"disasters_cache_200.csv\", index=False)"
   ]
  },
  {
   "cell_type": "code",
   "execution_count": 43,
   "metadata": {
    "tags": []
   },
   "outputs": [
    {
     "data": {
      "text/html": [
       "<div>\n",
       "<style scoped>\n",
       "    .dataframe tbody tr th:only-of-type {\n",
       "        vertical-align: middle;\n",
       "    }\n",
       "\n",
       "    .dataframe tbody tr th {\n",
       "        vertical-align: top;\n",
       "    }\n",
       "\n",
       "    .dataframe thead th {\n",
       "        text-align: right;\n",
       "    }\n",
       "</style>\n",
       "<table border=\"1\" class=\"dataframe\">\n",
       "  <thead>\n",
       "    <tr style=\"text-align: right;\">\n",
       "      <th></th>\n",
       "      <th>id</th>\n",
       "      <th>title</th>\n",
       "      <th>status</th>\n",
       "      <th>country</th>\n",
       "      <th>date</th>\n",
       "      <th>type</th>\n",
       "      <th>description</th>\n",
       "    </tr>\n",
       "  </thead>\n",
       "  <tbody>\n",
       "    <tr>\n",
       "      <th>0</th>\n",
       "      <td>51830</td>\n",
       "      <td>Jordan: Cold Wave - Nov 2023</td>\n",
       "      <td>past</td>\n",
       "      <td>Jordan</td>\n",
       "      <td>2024-02-16T09:45:58+00:00</td>\n",
       "      <td>Cold Wave</td>\n",
       "      <td>Starting in the evening of Sunday, 19/11/2023,...</td>\n",
       "    </tr>\n",
       "    <tr>\n",
       "      <th>1</th>\n",
       "      <td>51871</td>\n",
       "      <td>Mongolia: Dzud - Dec 2023</td>\n",
       "      <td>past</td>\n",
       "      <td>Mongolia</td>\n",
       "      <td>2025-02-03T04:50:55+00:00</td>\n",
       "      <td>Cold Wave</td>\n",
       "      <td>Mongolia is currently facing a severe Dzud. Th...</td>\n",
       "    </tr>\n",
       "    <tr>\n",
       "      <th>2</th>\n",
       "      <td>51879</td>\n",
       "      <td>Lebanon: Cold Wave - Jan 2024</td>\n",
       "      <td>past</td>\n",
       "      <td>Lebanon</td>\n",
       "      <td>2024-04-18T08:05:00+00:00</td>\n",
       "      <td>Cold Wave</td>\n",
       "      <td>Lebanon and the eastern basin of the Mediterra...</td>\n",
       "    </tr>\n",
       "    <tr>\n",
       "      <th>3</th>\n",
       "      <td>51930</td>\n",
       "      <td>Afghanistan: Cold Wave - Mar 2024</td>\n",
       "      <td>past</td>\n",
       "      <td>Afghanistan</td>\n",
       "      <td>2024-06-18T21:04:41+00:00</td>\n",
       "      <td>Cold Wave</td>\n",
       "      <td>On 3 March 2024, the Afghan Red Crescent Socie...</td>\n",
       "    </tr>\n",
       "    <tr>\n",
       "      <th>4</th>\n",
       "      <td>52302</td>\n",
       "      <td>Georgia: Heavy Snowfall and Cold Wave - Feb 2025</td>\n",
       "      <td>past</td>\n",
       "      <td>Georgia</td>\n",
       "      <td>2025-09-17T12:28:39+00:00</td>\n",
       "      <td>Cold Wave</td>\n",
       "      <td>Since 21 February 2025, Western Georgia has be...</td>\n",
       "    </tr>\n",
       "  </tbody>\n",
       "</table>\n",
       "</div>"
      ],
      "text/plain": [
       "      id                                             title status  \\\n",
       "0  51830                      Jordan: Cold Wave - Nov 2023   past   \n",
       "1  51871                         Mongolia: Dzud - Dec 2023   past   \n",
       "2  51879                     Lebanon: Cold Wave - Jan 2024   past   \n",
       "3  51930                 Afghanistan: Cold Wave - Mar 2024   past   \n",
       "4  52302  Georgia: Heavy Snowfall and Cold Wave - Feb 2025   past   \n",
       "\n",
       "       country                       date       type  \\\n",
       "0       Jordan  2024-02-16T09:45:58+00:00  Cold Wave   \n",
       "1     Mongolia  2025-02-03T04:50:55+00:00  Cold Wave   \n",
       "2      Lebanon  2024-04-18T08:05:00+00:00  Cold Wave   \n",
       "3  Afghanistan  2024-06-18T21:04:41+00:00  Cold Wave   \n",
       "4      Georgia  2025-09-17T12:28:39+00:00  Cold Wave   \n",
       "\n",
       "                                         description  \n",
       "0  Starting in the evening of Sunday, 19/11/2023,...  \n",
       "1  Mongolia is currently facing a severe Dzud. Th...  \n",
       "2  Lebanon and the eastern basin of the Mediterra...  \n",
       "3  On 3 March 2024, the Afghan Red Crescent Socie...  \n",
       "4  Since 21 February 2025, Western Georgia has be...  "
      ]
     },
     "execution_count": 43,
     "metadata": {},
     "output_type": "execute_result"
    }
   ],
   "source": [
    "main_df = pd.read_csv(\"disasters_cache_200.csv\")\n",
    "main_df.head()"
   ]
  },
  {
   "cell_type": "code",
   "execution_count": 22,
   "metadata": {
    "tags": []
   },
   "outputs": [
    {
     "data": {
      "text/plain": [
       "array(['past', 'ongoing', 'alert'], dtype=object)"
      ]
     },
     "execution_count": 22,
     "metadata": {},
     "output_type": "execute_result"
    }
   ],
   "source": [
    "main_df['status'].unique()"
   ]
  },
  {
   "cell_type": "code",
   "execution_count": 14,
   "metadata": {},
   "outputs": [
    {
     "data": {
      "text/plain": [
       "count      200.000000\n",
       "mean      3505.965000\n",
       "std       4158.855606\n",
       "min        367.000000\n",
       "25%       1246.500000\n",
       "50%       2176.500000\n",
       "75%       4110.750000\n",
       "max      39860.000000\n",
       "Name: description, dtype: float64"
      ]
     },
     "execution_count": 14,
     "metadata": {},
     "output_type": "execute_result"
    }
   ],
   "source": [
    "main_df.description.str.len().describe()"
   ]
  },
  {
   "cell_type": "code",
   "execution_count": 44,
   "metadata": {
    "tags": []
   },
   "outputs": [],
   "source": [
    "import re\n",
    "\n",
    "def clip_text(text, max_chars=3000):\n",
    "    if not isinstance(text, str):\n",
    "        return \"\"\n",
    "    # Normalize whitespace\n",
    "    text = re.sub(r'\\s+', ' ', text).strip()\n",
    "    \n",
    "    if len(text) <= max_chars:\n",
    "        return text\n",
    "    \n",
    "    sentences = re.split(r'(?<=[.!?]) +', text)\n",
    "    clipped = \"\"\n",
    "    for s in sentences:\n",
    "        if len(clipped) + len(s) > max_chars:\n",
    "            break\n",
    "        clipped += s + \" \"\n",
    "    return clipped.strip()\n"
   ]
  },
  {
   "cell_type": "code",
   "execution_count": 45,
   "metadata": {
    "tags": []
   },
   "outputs": [],
   "source": [
    "main_df[\"description_clipped\"] = main_df[\"description\"].apply(clip_text)"
   ]
  },
  {
   "cell_type": "code",
   "execution_count": 25,
   "metadata": {
    "tags": []
   },
   "outputs": [
    {
     "data": {
      "text/plain": [
       "count     200.000000\n",
       "mean     2061.210000\n",
       "std       841.051583\n",
       "min       367.000000\n",
       "25%      1246.500000\n",
       "50%      2174.000000\n",
       "75%      2888.000000\n",
       "max      3000.000000\n",
       "Name: description_clipped, dtype: float64"
      ]
     },
     "execution_count": 25,
     "metadata": {},
     "output_type": "execute_result"
    }
   ],
   "source": [
    "main_df[\"description_clipped\"].str.len().describe()"
   ]
  },
  {
   "cell_type": "code",
   "execution_count": 46,
   "metadata": {
    "tags": []
   },
   "outputs": [
    {
     "data": {
      "text/html": [
       "<div>\n",
       "<style scoped>\n",
       "    .dataframe tbody tr th:only-of-type {\n",
       "        vertical-align: middle;\n",
       "    }\n",
       "\n",
       "    .dataframe tbody tr th {\n",
       "        vertical-align: top;\n",
       "    }\n",
       "\n",
       "    .dataframe thead th {\n",
       "        text-align: right;\n",
       "    }\n",
       "</style>\n",
       "<table border=\"1\" class=\"dataframe\">\n",
       "  <thead>\n",
       "    <tr style=\"text-align: right;\">\n",
       "      <th></th>\n",
       "      <th>id</th>\n",
       "      <th>title</th>\n",
       "      <th>status</th>\n",
       "      <th>country</th>\n",
       "      <th>date</th>\n",
       "      <th>type</th>\n",
       "      <th>description</th>\n",
       "      <th>description_clipped</th>\n",
       "    </tr>\n",
       "  </thead>\n",
       "  <tbody>\n",
       "    <tr>\n",
       "      <th>0</th>\n",
       "      <td>51830</td>\n",
       "      <td>Jordan: Cold Wave - Nov 2023</td>\n",
       "      <td>past</td>\n",
       "      <td>Jordan</td>\n",
       "      <td>2024-02-16T09:45:58+00:00</td>\n",
       "      <td>Cold Wave</td>\n",
       "      <td>Starting in the evening of Sunday, 19/11/2023,...</td>\n",
       "      <td>Starting in the evening of Sunday, 19/11/2023,...</td>\n",
       "    </tr>\n",
       "    <tr>\n",
       "      <th>1</th>\n",
       "      <td>51871</td>\n",
       "      <td>Mongolia: Dzud - Dec 2023</td>\n",
       "      <td>past</td>\n",
       "      <td>Mongolia</td>\n",
       "      <td>2025-02-03T04:50:55+00:00</td>\n",
       "      <td>Cold Wave</td>\n",
       "      <td>Mongolia is currently facing a severe Dzud. Th...</td>\n",
       "      <td>Mongolia is currently facing a severe Dzud. Th...</td>\n",
       "    </tr>\n",
       "    <tr>\n",
       "      <th>2</th>\n",
       "      <td>51879</td>\n",
       "      <td>Lebanon: Cold Wave - Jan 2024</td>\n",
       "      <td>past</td>\n",
       "      <td>Lebanon</td>\n",
       "      <td>2024-04-18T08:05:00+00:00</td>\n",
       "      <td>Cold Wave</td>\n",
       "      <td>Lebanon and the eastern basin of the Mediterra...</td>\n",
       "      <td>Lebanon and the eastern basin of the Mediterra...</td>\n",
       "    </tr>\n",
       "    <tr>\n",
       "      <th>3</th>\n",
       "      <td>51930</td>\n",
       "      <td>Afghanistan: Cold Wave - Mar 2024</td>\n",
       "      <td>past</td>\n",
       "      <td>Afghanistan</td>\n",
       "      <td>2024-06-18T21:04:41+00:00</td>\n",
       "      <td>Cold Wave</td>\n",
       "      <td>On 3 March 2024, the Afghan Red Crescent Socie...</td>\n",
       "      <td>On 3 March 2024, the Afghan Red Crescent Socie...</td>\n",
       "    </tr>\n",
       "    <tr>\n",
       "      <th>4</th>\n",
       "      <td>52302</td>\n",
       "      <td>Georgia: Heavy Snowfall and Cold Wave - Feb 2025</td>\n",
       "      <td>past</td>\n",
       "      <td>Georgia</td>\n",
       "      <td>2025-09-17T12:28:39+00:00</td>\n",
       "      <td>Cold Wave</td>\n",
       "      <td>Since 21 February 2025, Western Georgia has be...</td>\n",
       "      <td>Since 21 February 2025, Western Georgia has be...</td>\n",
       "    </tr>\n",
       "  </tbody>\n",
       "</table>\n",
       "</div>"
      ],
      "text/plain": [
       "      id                                             title status  \\\n",
       "0  51830                      Jordan: Cold Wave - Nov 2023   past   \n",
       "1  51871                         Mongolia: Dzud - Dec 2023   past   \n",
       "2  51879                     Lebanon: Cold Wave - Jan 2024   past   \n",
       "3  51930                 Afghanistan: Cold Wave - Mar 2024   past   \n",
       "4  52302  Georgia: Heavy Snowfall and Cold Wave - Feb 2025   past   \n",
       "\n",
       "       country                       date       type  \\\n",
       "0       Jordan  2024-02-16T09:45:58+00:00  Cold Wave   \n",
       "1     Mongolia  2025-02-03T04:50:55+00:00  Cold Wave   \n",
       "2      Lebanon  2024-04-18T08:05:00+00:00  Cold Wave   \n",
       "3  Afghanistan  2024-06-18T21:04:41+00:00  Cold Wave   \n",
       "4      Georgia  2025-09-17T12:28:39+00:00  Cold Wave   \n",
       "\n",
       "                                         description  \\\n",
       "0  Starting in the evening of Sunday, 19/11/2023,...   \n",
       "1  Mongolia is currently facing a severe Dzud. Th...   \n",
       "2  Lebanon and the eastern basin of the Mediterra...   \n",
       "3  On 3 March 2024, the Afghan Red Crescent Socie...   \n",
       "4  Since 21 February 2025, Western Georgia has be...   \n",
       "\n",
       "                                 description_clipped  \n",
       "0  Starting in the evening of Sunday, 19/11/2023,...  \n",
       "1  Mongolia is currently facing a severe Dzud. Th...  \n",
       "2  Lebanon and the eastern basin of the Mediterra...  \n",
       "3  On 3 March 2024, the Afghan Red Crescent Socie...  \n",
       "4  Since 21 February 2025, Western Georgia has be...  "
      ]
     },
     "execution_count": 46,
     "metadata": {},
     "output_type": "execute_result"
    }
   ],
   "source": [
    "main_df.head()"
   ]
  },
  {
   "cell_type": "markdown",
   "metadata": {
    "tags": []
   },
   "source": [
    "### Generate embeddings"
   ]
  },
  {
   "cell_type": "code",
   "execution_count": 47,
   "metadata": {},
   "outputs": [
    {
     "name": "stdout",
     "output_type": "stream",
     "text": [
      "Embedding length: 768\n"
     ]
    }
   ],
   "source": [
    "embeddings = []\n",
    "client = genai.Client(vertexai=True,project=project_id,location=location)\n",
    "\n",
    "for idx, row in main_df.iterrows():\n",
    "    # Concatenate title and description from the current row with separator\n",
    "    text = f\"{row['title']} {row['description_clipped']}\" if pd.notnull(row['description']) else row['title']\n",
    "    #print(text)\n",
    "    \n",
    "    response = client.models.embed_content(\n",
    "        model=\"text-embedding-005\",\n",
    "        contents=text,\n",
    "        config=EmbedContentConfig(\n",
    "            task_type=\"RETRIEVAL_DOCUMENT\" \n",
    "        ),\n",
    "    )\n",
    "    embeddings.append(response.embeddings[0].values)\n",
    "\n",
    "# Add to your dataframe\n",
    "main_df[\"embedding\"] = embeddings\n",
    "\n",
    "print(\"Embedding length:\", len(main_df[\"embedding\"][0]))"
   ]
  },
  {
   "cell_type": "code",
   "execution_count": 48,
   "metadata": {
    "tags": []
   },
   "outputs": [
    {
     "data": {
      "text/html": [
       "<div>\n",
       "<style scoped>\n",
       "    .dataframe tbody tr th:only-of-type {\n",
       "        vertical-align: middle;\n",
       "    }\n",
       "\n",
       "    .dataframe tbody tr th {\n",
       "        vertical-align: top;\n",
       "    }\n",
       "\n",
       "    .dataframe thead th {\n",
       "        text-align: right;\n",
       "    }\n",
       "</style>\n",
       "<table border=\"1\" class=\"dataframe\">\n",
       "  <thead>\n",
       "    <tr style=\"text-align: right;\">\n",
       "      <th></th>\n",
       "      <th>id</th>\n",
       "      <th>title</th>\n",
       "      <th>status</th>\n",
       "      <th>country</th>\n",
       "      <th>date</th>\n",
       "      <th>type</th>\n",
       "      <th>description</th>\n",
       "      <th>description_clipped</th>\n",
       "      <th>embedding</th>\n",
       "    </tr>\n",
       "  </thead>\n",
       "  <tbody>\n",
       "    <tr>\n",
       "      <th>0</th>\n",
       "      <td>51830</td>\n",
       "      <td>Jordan: Cold Wave - Nov 2023</td>\n",
       "      <td>past</td>\n",
       "      <td>Jordan</td>\n",
       "      <td>2024-02-16T09:45:58+00:00</td>\n",
       "      <td>Cold Wave</td>\n",
       "      <td>Starting in the evening of Sunday, 19/11/2023,...</td>\n",
       "      <td>Starting in the evening of Sunday, 19/11/2023,...</td>\n",
       "      <td>[-0.01603551208972931, -0.004946137312799692, ...</td>\n",
       "    </tr>\n",
       "    <tr>\n",
       "      <th>1</th>\n",
       "      <td>51871</td>\n",
       "      <td>Mongolia: Dzud - Dec 2023</td>\n",
       "      <td>past</td>\n",
       "      <td>Mongolia</td>\n",
       "      <td>2025-02-03T04:50:55+00:00</td>\n",
       "      <td>Cold Wave</td>\n",
       "      <td>Mongolia is currently facing a severe Dzud. Th...</td>\n",
       "      <td>Mongolia is currently facing a severe Dzud. Th...</td>\n",
       "      <td>[-0.011093736626207829, -0.0063713970594108105...</td>\n",
       "    </tr>\n",
       "    <tr>\n",
       "      <th>2</th>\n",
       "      <td>51879</td>\n",
       "      <td>Lebanon: Cold Wave - Jan 2024</td>\n",
       "      <td>past</td>\n",
       "      <td>Lebanon</td>\n",
       "      <td>2024-04-18T08:05:00+00:00</td>\n",
       "      <td>Cold Wave</td>\n",
       "      <td>Lebanon and the eastern basin of the Mediterra...</td>\n",
       "      <td>Lebanon and the eastern basin of the Mediterra...</td>\n",
       "      <td>[-0.018243620172142982, 0.008612164296209812, ...</td>\n",
       "    </tr>\n",
       "    <tr>\n",
       "      <th>3</th>\n",
       "      <td>51930</td>\n",
       "      <td>Afghanistan: Cold Wave - Mar 2024</td>\n",
       "      <td>past</td>\n",
       "      <td>Afghanistan</td>\n",
       "      <td>2024-06-18T21:04:41+00:00</td>\n",
       "      <td>Cold Wave</td>\n",
       "      <td>On 3 March 2024, the Afghan Red Crescent Socie...</td>\n",
       "      <td>On 3 March 2024, the Afghan Red Crescent Socie...</td>\n",
       "      <td>[-0.055603839457035065, 0.003309867810457945, ...</td>\n",
       "    </tr>\n",
       "    <tr>\n",
       "      <th>4</th>\n",
       "      <td>52302</td>\n",
       "      <td>Georgia: Heavy Snowfall and Cold Wave - Feb 2025</td>\n",
       "      <td>past</td>\n",
       "      <td>Georgia</td>\n",
       "      <td>2025-09-17T12:28:39+00:00</td>\n",
       "      <td>Cold Wave</td>\n",
       "      <td>Since 21 February 2025, Western Georgia has be...</td>\n",
       "      <td>Since 21 February 2025, Western Georgia has be...</td>\n",
       "      <td>[-0.06296245753765106, 0.02222575433552265, -0...</td>\n",
       "    </tr>\n",
       "  </tbody>\n",
       "</table>\n",
       "</div>"
      ],
      "text/plain": [
       "      id                                             title status  \\\n",
       "0  51830                      Jordan: Cold Wave - Nov 2023   past   \n",
       "1  51871                         Mongolia: Dzud - Dec 2023   past   \n",
       "2  51879                     Lebanon: Cold Wave - Jan 2024   past   \n",
       "3  51930                 Afghanistan: Cold Wave - Mar 2024   past   \n",
       "4  52302  Georgia: Heavy Snowfall and Cold Wave - Feb 2025   past   \n",
       "\n",
       "       country                       date       type  \\\n",
       "0       Jordan  2024-02-16T09:45:58+00:00  Cold Wave   \n",
       "1     Mongolia  2025-02-03T04:50:55+00:00  Cold Wave   \n",
       "2      Lebanon  2024-04-18T08:05:00+00:00  Cold Wave   \n",
       "3  Afghanistan  2024-06-18T21:04:41+00:00  Cold Wave   \n",
       "4      Georgia  2025-09-17T12:28:39+00:00  Cold Wave   \n",
       "\n",
       "                                         description  \\\n",
       "0  Starting in the evening of Sunday, 19/11/2023,...   \n",
       "1  Mongolia is currently facing a severe Dzud. Th...   \n",
       "2  Lebanon and the eastern basin of the Mediterra...   \n",
       "3  On 3 March 2024, the Afghan Red Crescent Socie...   \n",
       "4  Since 21 February 2025, Western Georgia has be...   \n",
       "\n",
       "                                 description_clipped  \\\n",
       "0  Starting in the evening of Sunday, 19/11/2023,...   \n",
       "1  Mongolia is currently facing a severe Dzud. Th...   \n",
       "2  Lebanon and the eastern basin of the Mediterra...   \n",
       "3  On 3 March 2024, the Afghan Red Crescent Socie...   \n",
       "4  Since 21 February 2025, Western Georgia has be...   \n",
       "\n",
       "                                           embedding  \n",
       "0  [-0.01603551208972931, -0.004946137312799692, ...  \n",
       "1  [-0.011093736626207829, -0.0063713970594108105...  \n",
       "2  [-0.018243620172142982, 0.008612164296209812, ...  \n",
       "3  [-0.055603839457035065, 0.003309867810457945, ...  \n",
       "4  [-0.06296245753765106, 0.02222575433552265, -0...  "
      ]
     },
     "execution_count": 48,
     "metadata": {},
     "output_type": "execute_result"
    }
   ],
   "source": [
    "main_df.head()"
   ]
  },
  {
   "cell_type": "code",
   "execution_count": 50,
   "metadata": {
    "tags": []
   },
   "outputs": [],
   "source": [
    "import json\n",
    "\n",
    "records = []\n",
    "with open(\"disaster_title_desc_vectors.json\", \"w\") as f:  # note: .json extension\n",
    "    for _, row in main_df.iterrows():\n",
    "        #print(type(row[\"embedding\"]))\n",
    "        record = {\n",
    "            \"id\" : row[\"id\"],\n",
    "            \"embedding\": row[\"embedding\"],\n",
    "            \"embedding_metadata\": {\n",
    "                \"title\": row[\"title\"],\n",
    "                \"description\": row[\"description\"],\n",
    "                \"country\": row[\"country\"],\n",
    "                \"status\": row[\"status\"],\n",
    "                \"type\": row[\"type\"],\n",
    "                \"date\": row[\"date\"]\n",
    "            }\n",
    "        }\n",
    "        f.write(json.dumps(record) + \"\\n\") "
   ]
  },
  {
   "cell_type": "markdown",
   "metadata": {
    "tags": []
   },
   "source": [
    "### Debug with Manual Retrieval"
   ]
  },
  {
   "cell_type": "code",
   "execution_count": 30,
   "metadata": {
    "tags": []
   },
   "outputs": [
    {
     "name": "stdout",
     "output_type": "stream",
     "text": [
      "Uploaded disaster_title_desc_vectors.json to gs://disasters-vectors/disasters200_vectors.json\n"
     ]
    }
   ],
   "source": [
    "from google.cloud import storage\n",
    "\n",
    "storage_client = storage.Client(project=project_id)\n",
    "\n",
    "bucket_name = \"disasters-vectors\"  \n",
    "destination_blob_name = \"disasters200_vectors.json\"\n",
    "source_file_name = \"disaster_title_desc_vectors.json\"\n",
    "\n",
    "bucket = storage_client.bucket(bucket_name)\n",
    "blob = bucket.blob(destination_blob_name)\n",
    "blob.upload_from_filename(source_file_name)\n",
    "\n",
    "print(f\"Uploaded {source_file_name} to gs://{bucket_name}/{destination_blob_name}\")\n"
   ]
  },
  {
   "cell_type": "code",
   "execution_count": 9,
   "metadata": {
    "tags": []
   },
   "outputs": [
    {
     "data": {
      "text/html": [
       "<div>\n",
       "<style scoped>\n",
       "    .dataframe tbody tr th:only-of-type {\n",
       "        vertical-align: middle;\n",
       "    }\n",
       "\n",
       "    .dataframe tbody tr th {\n",
       "        vertical-align: top;\n",
       "    }\n",
       "\n",
       "    .dataframe thead th {\n",
       "        text-align: right;\n",
       "    }\n",
       "</style>\n",
       "<table border=\"1\" class=\"dataframe\">\n",
       "  <thead>\n",
       "    <tr style=\"text-align: right;\">\n",
       "      <th></th>\n",
       "      <th>id</th>\n",
       "      <th>embedding</th>\n",
       "      <th>embedding_metadata</th>\n",
       "    </tr>\n",
       "  </thead>\n",
       "  <tbody>\n",
       "    <tr>\n",
       "      <th>0</th>\n",
       "      <td>51830</td>\n",
       "      <td>[-0.016035512089729, -0.004946137312799, -0.03...</td>\n",
       "      <td>{'title': 'Jordan: Cold Wave - Nov 2023', 'des...</td>\n",
       "    </tr>\n",
       "    <tr>\n",
       "      <th>1</th>\n",
       "      <td>51871</td>\n",
       "      <td>[-0.011093736626207001, -0.00637139705941, -0....</td>\n",
       "      <td>{'title': 'Mongolia: Dzud - Dec 2023', 'descri...</td>\n",
       "    </tr>\n",
       "    <tr>\n",
       "      <th>2</th>\n",
       "      <td>51879</td>\n",
       "      <td>[-0.018243620172142, 0.008612164296209, -0.050...</td>\n",
       "      <td>{'title': 'Lebanon: Cold Wave - Jan 2024', 'de...</td>\n",
       "    </tr>\n",
       "    <tr>\n",
       "      <th>3</th>\n",
       "      <td>51930</td>\n",
       "      <td>[-0.055603839457035, 0.0033098678104570003, -0...</td>\n",
       "      <td>{'title': 'Afghanistan: Cold Wave - Mar 2024',...</td>\n",
       "    </tr>\n",
       "    <tr>\n",
       "      <th>4</th>\n",
       "      <td>52302</td>\n",
       "      <td>[-0.062962457537651, 0.022225754335522003, -0....</td>\n",
       "      <td>{'title': 'Georgia: Heavy Snowfall and Cold Wa...</td>\n",
       "    </tr>\n",
       "    <tr>\n",
       "      <th>...</th>\n",
       "      <td>...</td>\n",
       "      <td>...</td>\n",
       "      <td>...</td>\n",
       "    </tr>\n",
       "    <tr>\n",
       "      <th>195</th>\n",
       "      <td>52306</td>\n",
       "      <td>[0.013958492316305, 0.009083811193704001, -0.0...</td>\n",
       "      <td>{'title': 'Tropical Cyclone Jude - Mar 2025', ...</td>\n",
       "    </tr>\n",
       "    <tr>\n",
       "      <th>196</th>\n",
       "      <td>51880</td>\n",
       "      <td>[-0.06289511173963501, -0.020150000229477, -0....</td>\n",
       "      <td>{'title': 'Chile: Wild Fires - Jan 2024', 'des...</td>\n",
       "    </tr>\n",
       "    <tr>\n",
       "      <th>197</th>\n",
       "      <td>52030</td>\n",
       "      <td>[-0.052157003432512006, -0.037723157554864, -0...</td>\n",
       "      <td>{'title': 'Belize: Wild Fires - May 2024', 'de...</td>\n",
       "    </tr>\n",
       "    <tr>\n",
       "      <th>198</th>\n",
       "      <td>52095</td>\n",
       "      <td>[-0.040381085127592004, -0.026769297197461003,...</td>\n",
       "      <td>{'title': 'Bolivia: Wild Fires - Jul 2024', 'd...</td>\n",
       "    </tr>\n",
       "    <tr>\n",
       "      <th>199</th>\n",
       "      <td>52219</td>\n",
       "      <td>[-0.03816083446145, -0.039065495133399006, -0....</td>\n",
       "      <td>{'title': 'Syria: Wild Fires - Oct 2024', 'des...</td>\n",
       "    </tr>\n",
       "  </tbody>\n",
       "</table>\n",
       "<p>200 rows × 3 columns</p>\n",
       "</div>"
      ],
      "text/plain": [
       "        id                                          embedding  \\\n",
       "0    51830  [-0.016035512089729, -0.004946137312799, -0.03...   \n",
       "1    51871  [-0.011093736626207001, -0.00637139705941, -0....   \n",
       "2    51879  [-0.018243620172142, 0.008612164296209, -0.050...   \n",
       "3    51930  [-0.055603839457035, 0.0033098678104570003, -0...   \n",
       "4    52302  [-0.062962457537651, 0.022225754335522003, -0....   \n",
       "..     ...                                                ...   \n",
       "195  52306  [0.013958492316305, 0.009083811193704001, -0.0...   \n",
       "196  51880  [-0.06289511173963501, -0.020150000229477, -0....   \n",
       "197  52030  [-0.052157003432512006, -0.037723157554864, -0...   \n",
       "198  52095  [-0.040381085127592004, -0.026769297197461003,...   \n",
       "199  52219  [-0.03816083446145, -0.039065495133399006, -0....   \n",
       "\n",
       "                                    embedding_metadata  \n",
       "0    {'title': 'Jordan: Cold Wave - Nov 2023', 'des...  \n",
       "1    {'title': 'Mongolia: Dzud - Dec 2023', 'descri...  \n",
       "2    {'title': 'Lebanon: Cold Wave - Jan 2024', 'de...  \n",
       "3    {'title': 'Afghanistan: Cold Wave - Mar 2024',...  \n",
       "4    {'title': 'Georgia: Heavy Snowfall and Cold Wa...  \n",
       "..                                                 ...  \n",
       "195  {'title': 'Tropical Cyclone Jude - Mar 2025', ...  \n",
       "196  {'title': 'Chile: Wild Fires - Jan 2024', 'des...  \n",
       "197  {'title': 'Belize: Wild Fires - May 2024', 'de...  \n",
       "198  {'title': 'Bolivia: Wild Fires - Jul 2024', 'd...  \n",
       "199  {'title': 'Syria: Wild Fires - Oct 2024', 'des...  \n",
       "\n",
       "[200 rows x 3 columns]"
      ]
     },
     "execution_count": 9,
     "metadata": {},
     "output_type": "execute_result"
    }
   ],
   "source": [
    "embeds_df = pd.read_json('disaster_title_desc_vectors.json',lines=True)\n",
    "embeds_df"
   ]
  },
  {
   "cell_type": "markdown",
   "metadata": {
    "tags": []
   },
   "source": [
    "### Manual retrieval & dashboard"
   ]
  },
  {
   "cell_type": "code",
   "execution_count": 10,
   "metadata": {
    "tags": []
   },
   "outputs": [],
   "source": [
    "client = genai.Client(vertexai=True, project=project_id, location=location)\n",
    "\n",
    "def rewrite_query_with_gemini(user_query):\n",
    "    \"\"\"\n",
    "    Uses Gemini to rewrite user query for better semantic retrieval.\n",
    "    Expands regions, adds context, and clarifies disaster-related terms.\n",
    "    \"\"\"\n",
    "    system_prompt = (\n",
    "        \"You are a disaster data retrieval assistant. \"\n",
    "        \"Given a user query, rewrite it to make it more effective for semantic search over a disaster database. \"\n",
    "        \"Expand region names into countries if necessary. If country name is specifically mentioned, retain it as is.\"\n",
    "        \"Preserve the disaster type & location explicitly. \"\n",
    "        \"Handle time-sensitive expressions like 'recent' or 'this month' -> limit to 30 days; if specific date/month/year \"\n",
    "        \"is mentioned, retain it as is.\"\n",
    "        \"Make the rewritten text concise, natural, and contextually complete. \"\n",
    "        \"Do NOT invent data or add numeric details. \"\n",
    "        \"Output only the rewritten query text.\"\n",
    "    )\n",
    "\n",
    "    response = client.models.generate_content(\n",
    "        model=\"gemini-2.5-flash\",\n",
    "        contents=user_query,\n",
    "        config=types.GenerateContentConfig(\n",
    "            system_instruction=system_prompt,\n",
    "            temperature=0.7,\n",
    "            max_output_tokens=10000\n",
    "        )\n",
    "    )\n",
    "    #print(response)\n",
    "    rewritten_query = response.candidates[0].content.parts[0].text.strip()\n",
    "    return rewritten_query"
   ]
  },
  {
   "cell_type": "code",
   "execution_count": 35,
   "metadata": {
    "tags": []
   },
   "outputs": [],
   "source": [
    "def retrieve_similar_disasters_with_gemini(\n",
    "    df,\n",
    "    user_query: str,\n",
    "    top_k: int = 5,\n",
    "    embedding_model: str = \"text-embedding-005\",\n",
    "    # project_id: str = None,\n",
    "    # location: str = None\n",
    "):\n",
    "    \"\"\"\n",
    "    Retrieve top-K similar disasters using Gemini-assisted query expansion + cosine similarity.\n",
    "    \"\"\"\n",
    "    #client = genai.Client(vertexai=True, project=project_id, location=location)\n",
    "\n",
    "    # --- Step 1: Rewrite query using Gemini ---\n",
    "    rewritten_query = rewrite_query_with_gemini(user_query)\n",
    "    print(f\"Gemini Rewritten Query:\\n{rewritten_query}\\n\")\n",
    "\n",
    "    # --- Step 2: Generate embedding for rewritten query ---\n",
    "    response = client.models.embed_content(\n",
    "        model=embedding_model,\n",
    "        contents=rewritten_query,\n",
    "        config=EmbedContentConfig(task_type=\"RETRIEVAL_QUERY\")\n",
    "    )\n",
    "    query_embedding = response.embeddings[0].values\n",
    "\n",
    "    # --- Step 3: Compute cosine similarity ---\n",
    "    matrix = np.vstack(df[\"embedding\"].values)\n",
    "    sim_scores = cosine_similarity([query_embedding], matrix)[0]\n",
    "    df[\"similarity_score\"] = sim_scores\n",
    "\n",
    "    # --- Step 4: Sort and return top K ---\n",
    "    df = df.sort_values(\"similarity_score\", ascending=False).head(top_k).reset_index(drop=True)\n",
    "    return df[[\"id\", \"embedding_metadata\", \"similarity_score\"]]"
   ]
  },
  {
   "cell_type": "code",
   "execution_count": 36,
   "metadata": {
    "tags": []
   },
   "outputs": [
    {
     "name": "stdout",
     "output_type": "stream",
     "text": [
      "Gemini Rewritten Query:\n",
      "Disasters in Canada, Mexico, United States\n",
      "\n"
     ]
    }
   ],
   "source": [
    "user_query = \"Disasters in North America\"\n",
    "# rewrite_query = rewrite_query_with_gemini(user_query)\n",
    "# print(rewrite_query)\n",
    "results_df = retrieve_similar_disasters_with_gemini(\n",
    "    df=embeds_df,\n",
    "    user_query=user_query,\n",
    "    top_k=5,\n",
    "    # project_id=project_id,\n",
    "    # location=location\n",
    ")"
   ]
  },
  {
   "cell_type": "code",
   "execution_count": 37,
   "metadata": {
    "tags": []
   },
   "outputs": [
    {
     "data": {
      "text/html": [
       "<div>\n",
       "<style scoped>\n",
       "    .dataframe tbody tr th:only-of-type {\n",
       "        vertical-align: middle;\n",
       "    }\n",
       "\n",
       "    .dataframe tbody tr th {\n",
       "        vertical-align: top;\n",
       "    }\n",
       "\n",
       "    .dataframe thead th {\n",
       "        text-align: right;\n",
       "    }\n",
       "</style>\n",
       "<table border=\"1\" class=\"dataframe\">\n",
       "  <thead>\n",
       "    <tr style=\"text-align: right;\">\n",
       "      <th></th>\n",
       "      <th>id</th>\n",
       "      <th>embedding_metadata</th>\n",
       "      <th>similarity_score</th>\n",
       "    </tr>\n",
       "  </thead>\n",
       "  <tbody>\n",
       "    <tr>\n",
       "      <th>0</th>\n",
       "      <td>52406</td>\n",
       "      <td>{'title': 'Guatemala: Earthquake - Jul 2025', ...</td>\n",
       "      <td>0.581444</td>\n",
       "    </tr>\n",
       "    <tr>\n",
       "      <th>1</th>\n",
       "      <td>51816</td>\n",
       "      <td>{'title': 'Colombia: Floods - Oct 2023', 'desc...</td>\n",
       "      <td>0.572952</td>\n",
       "    </tr>\n",
       "    <tr>\n",
       "      <th>2</th>\n",
       "      <td>51819</td>\n",
       "      <td>{'title': 'Dominican Republic: Floods and Land...</td>\n",
       "      <td>0.572744</td>\n",
       "    </tr>\n",
       "    <tr>\n",
       "      <th>3</th>\n",
       "      <td>52399</td>\n",
       "      <td>{'title': 'Venezuela: Floods and Landslides - ...</td>\n",
       "      <td>0.568280</td>\n",
       "    </tr>\n",
       "    <tr>\n",
       "      <th>4</th>\n",
       "      <td>51951</td>\n",
       "      <td>{'title': 'Uruguay: Floods - Mar 2024', 'descr...</td>\n",
       "      <td>0.567555</td>\n",
       "    </tr>\n",
       "  </tbody>\n",
       "</table>\n",
       "</div>"
      ],
      "text/plain": [
       "      id                                 embedding_metadata  similarity_score\n",
       "0  52406  {'title': 'Guatemala: Earthquake - Jul 2025', ...          0.581444\n",
       "1  51816  {'title': 'Colombia: Floods - Oct 2023', 'desc...          0.572952\n",
       "2  51819  {'title': 'Dominican Republic: Floods and Land...          0.572744\n",
       "3  52399  {'title': 'Venezuela: Floods and Landslides - ...          0.568280\n",
       "4  51951  {'title': 'Uruguay: Floods - Mar 2024', 'descr...          0.567555"
      ]
     },
     "execution_count": 37,
     "metadata": {},
     "output_type": "execute_result"
    }
   ],
   "source": [
    "results_df"
   ]
  },
  {
   "cell_type": "markdown",
   "metadata": {
    "tags": []
   },
   "source": [
    "### Actual Deployment using Vertex Vector Search"
   ]
  },
  {
   "cell_type": "code",
   "execution_count": 61,
   "metadata": {},
   "outputs": [],
   "source": [
    "def retrieve_similar_disasters_vertex(\n",
    "    user_query: str,\n",
    "    top_k: int=5,\n",
    "    embedding_model: str = \"text-embedding-005\",\n",
    "):\n",
    "    \"\"\"\n",
    "    Retrieve top-K similar results using Vertex AI Vector Search with Gemini-based query expansion.\n",
    "    \"\"\"\n",
    "    # ------------------------------\n",
    "    # Step 1: Generate embedding using Gemini text-embedding model\n",
    "    # ------------------------------\n",
    "    #client = genai.Client(vertexai=True, project=project_id, location=location)\n",
    "\n",
    "    rewritten_query = rewrite_query_with_gemini(user_query)\n",
    "    print(f\"Gemini Rewritten Query:\\n{rewritten_query}\\n\")\n",
    "\n",
    "    response = client.models.embed_content(\n",
    "        model=embedding_model,\n",
    "        contents=rewritten_query,\n",
    "        config=EmbedContentConfig(task_type=\"RETRIEVAL_QUERY\"),\n",
    "    )\n",
    "\n",
    "    query_embedding = response.embeddings[0].values\n",
    "\n",
    "    # ------------------------------\n",
    "    # Step 2: Call Vector Search endpoint\n",
    "    # ------------------------------\n",
    "    aiplatform.init(project=project_id, location=location)\n",
    "    index_endpoint = aiplatform.MatchingEngineIndexEndpoint(index_endpoint_id)\n",
    "\n",
    "    response = index_endpoint.find_neighbors(\n",
    "        deployed_index_id=deployed_index_id,\n",
    "        queries=[query_embedding],\n",
    "        num_neighbors=top_k,\n",
    "        return_full_datapoint=True\n",
    "    )\n",
    "\n",
    "    # ------------------------------\n",
    "    # Step 3: Parse and format results\n",
    "    # ------------------------------\n",
    "    results = []\n",
    "    for n in response[0]:  \n",
    "        #print(n.id)\n",
    "        row = embeds_df[embeds_df[\"id\"] == int(n.id)]\n",
    "        #print(row[\"embedding_metadata\"])\n",
    "        results.append({\n",
    "            \"id\":int(n.id),\n",
    "            \"embedding_metadata\":row.embedding_metadata.iloc[0],\n",
    "            \"similarity_score\": n.distance,\n",
    "        })\n",
    "    results = pd.DataFrame(results)\n",
    "    results = results.sort_values(\"similarity_score\", ascending=False).head(top_k).reset_index(drop=True)\n",
    "    return results"
   ]
  },
  {
   "cell_type": "code",
   "execution_count": 62,
   "metadata": {
    "tags": []
   },
   "outputs": [
    {
     "name": "stdout",
     "output_type": "stream",
     "text": [
      "Gemini Rewritten Query:\n",
      "Disasters in North America, including Canada, Mexico, and the United States.\n",
      "\n"
     ]
    }
   ],
   "source": [
    "user_query_vertex = \"Disasters in North America\"\n",
    "results_df_vertex = retrieve_similar_disasters_vertex(\n",
    "    user_query=user_query_vertex,\n",
    "    top_k=5\n",
    ")"
   ]
  },
  {
   "cell_type": "code",
   "execution_count": 63,
   "metadata": {
    "tags": []
   },
   "outputs": [
    {
     "data": {
      "text/html": [
       "<div>\n",
       "<style scoped>\n",
       "    .dataframe tbody tr th:only-of-type {\n",
       "        vertical-align: middle;\n",
       "    }\n",
       "\n",
       "    .dataframe tbody tr th {\n",
       "        vertical-align: top;\n",
       "    }\n",
       "\n",
       "    .dataframe thead th {\n",
       "        text-align: right;\n",
       "    }\n",
       "</style>\n",
       "<table border=\"1\" class=\"dataframe\">\n",
       "  <thead>\n",
       "    <tr style=\"text-align: right;\">\n",
       "      <th></th>\n",
       "      <th>id</th>\n",
       "      <th>embedding_metadata</th>\n",
       "      <th>similarity_score</th>\n",
       "    </tr>\n",
       "  </thead>\n",
       "  <tbody>\n",
       "    <tr>\n",
       "      <th>0</th>\n",
       "      <td>51816</td>\n",
       "      <td>{'title': 'Colombia: Floods - Oct 2023', 'desc...</td>\n",
       "      <td>0.566440</td>\n",
       "    </tr>\n",
       "    <tr>\n",
       "      <th>1</th>\n",
       "      <td>52406</td>\n",
       "      <td>{'title': 'Guatemala: Earthquake - Jul 2025', ...</td>\n",
       "      <td>0.557235</td>\n",
       "    </tr>\n",
       "    <tr>\n",
       "      <th>2</th>\n",
       "      <td>51894</td>\n",
       "      <td>{'title': 'Colombia: Drought and Wild Fires - ...</td>\n",
       "      <td>0.553027</td>\n",
       "    </tr>\n",
       "    <tr>\n",
       "      <th>3</th>\n",
       "      <td>52399</td>\n",
       "      <td>{'title': 'Venezuela: Floods and Landslides - ...</td>\n",
       "      <td>0.552277</td>\n",
       "    </tr>\n",
       "    <tr>\n",
       "      <th>4</th>\n",
       "      <td>51849</td>\n",
       "      <td>{'title': 'Argentina: Severe Local Storm - Dec...</td>\n",
       "      <td>0.548494</td>\n",
       "    </tr>\n",
       "  </tbody>\n",
       "</table>\n",
       "</div>"
      ],
      "text/plain": [
       "      id                                 embedding_metadata  similarity_score\n",
       "0  51816  {'title': 'Colombia: Floods - Oct 2023', 'desc...          0.566440\n",
       "1  52406  {'title': 'Guatemala: Earthquake - Jul 2025', ...          0.557235\n",
       "2  51894  {'title': 'Colombia: Drought and Wild Fires - ...          0.553027\n",
       "3  52399  {'title': 'Venezuela: Floods and Landslides - ...          0.552277\n",
       "4  51849  {'title': 'Argentina: Severe Local Storm - Dec...          0.548494"
      ]
     },
     "execution_count": 63,
     "metadata": {},
     "output_type": "execute_result"
    }
   ],
   "source": [
    "results_df_vertex"
   ]
  },
  {
   "cell_type": "code",
   "execution_count": null,
   "metadata": {
    "tags": []
   },
   "outputs": [],
   "source": [
    "!gcloud ai index-endpoints list --project={project_id} --region={location}"
   ]
  },
  {
   "cell_type": "code",
   "execution_count": null,
   "metadata": {
    "tags": []
   },
   "outputs": [],
   "source": [
    "!gcloud ai index-endpoints describe {index_endpoint_id} --project={project_id} --region={location}"
   ]
  },
  {
   "cell_type": "markdown",
   "metadata": {
    "jp-MarkdownHeadingCollapsed": true,
    "tags": []
   },
   "source": [
    "### Refinement for Dashboard setup"
   ]
  },
  {
   "cell_type": "code",
   "execution_count": 38,
   "metadata": {
    "tags": []
   },
   "outputs": [],
   "source": [
    "refine_retrieved_df = pd.concat([results_df.drop(['embedding_metadata'], axis=1),\n",
    "                results_df['embedding_metadata'].apply(pd.Series)], axis=1)\n",
    "refine_retrieved_df[\"date\"] = pd.to_datetime(refine_retrieved_df[\"date\"])"
   ]
  },
  {
   "cell_type": "code",
   "execution_count": 39,
   "metadata": {
    "tags": []
   },
   "outputs": [
    {
     "data": {
      "text/html": [
       "<div>\n",
       "<style scoped>\n",
       "    .dataframe tbody tr th:only-of-type {\n",
       "        vertical-align: middle;\n",
       "    }\n",
       "\n",
       "    .dataframe tbody tr th {\n",
       "        vertical-align: top;\n",
       "    }\n",
       "\n",
       "    .dataframe thead th {\n",
       "        text-align: right;\n",
       "    }\n",
       "</style>\n",
       "<table border=\"1\" class=\"dataframe\">\n",
       "  <thead>\n",
       "    <tr style=\"text-align: right;\">\n",
       "      <th></th>\n",
       "      <th>id</th>\n",
       "      <th>similarity_score</th>\n",
       "      <th>title</th>\n",
       "      <th>description</th>\n",
       "      <th>country</th>\n",
       "      <th>status</th>\n",
       "      <th>type</th>\n",
       "      <th>date</th>\n",
       "    </tr>\n",
       "  </thead>\n",
       "  <tbody>\n",
       "    <tr>\n",
       "      <th>0</th>\n",
       "      <td>52406</td>\n",
       "      <td>0.581444</td>\n",
       "      <td>Guatemala: Earthquake - Jul 2025</td>\n",
       "      <td>Since 8 July, a series of earthquakes has seve...</td>\n",
       "      <td>Guatemala</td>\n",
       "      <td>ongoing</td>\n",
       "      <td>Earthquake</td>\n",
       "      <td>2025-07-30 00:49:38+00:00</td>\n",
       "    </tr>\n",
       "    <tr>\n",
       "      <th>1</th>\n",
       "      <td>51816</td>\n",
       "      <td>0.572952</td>\n",
       "      <td>Colombia: Floods - Oct 2023</td>\n",
       "      <td>Since 30 October, there have been heavy and pr...</td>\n",
       "      <td>Colombia</td>\n",
       "      <td>past</td>\n",
       "      <td>Flood</td>\n",
       "      <td>2024-04-25 18:07:17+00:00</td>\n",
       "    </tr>\n",
       "    <tr>\n",
       "      <th>2</th>\n",
       "      <td>51819</td>\n",
       "      <td>0.572744</td>\n",
       "      <td>Dominican Republic: Floods and Landslides - No...</td>\n",
       "      <td>Since 17 November, a tropical depression has b...</td>\n",
       "      <td>Dominican Republic</td>\n",
       "      <td>past</td>\n",
       "      <td>Flash Flood</td>\n",
       "      <td>2024-01-11 06:01:47+00:00</td>\n",
       "    </tr>\n",
       "    <tr>\n",
       "      <th>3</th>\n",
       "      <td>52399</td>\n",
       "      <td>0.568280</td>\n",
       "      <td>Venezuela: Floods and Landslides - Jun 2025</td>\n",
       "      <td>The passage of Tropical Wave number 9 through ...</td>\n",
       "      <td>Venezuela (Bolivarian Republic of)</td>\n",
       "      <td>ongoing</td>\n",
       "      <td>Flood</td>\n",
       "      <td>2025-07-10 08:26:26+00:00</td>\n",
       "    </tr>\n",
       "    <tr>\n",
       "      <th>4</th>\n",
       "      <td>51951</td>\n",
       "      <td>0.567555</td>\n",
       "      <td>Uruguay: Floods - Mar 2024</td>\n",
       "      <td>Between March 16 and 22, Uruguay experienced a...</td>\n",
       "      <td>Uruguay</td>\n",
       "      <td>past</td>\n",
       "      <td>Flood</td>\n",
       "      <td>2024-06-10 17:10:04+00:00</td>\n",
       "    </tr>\n",
       "  </tbody>\n",
       "</table>\n",
       "</div>"
      ],
      "text/plain": [
       "      id  similarity_score                                              title  \\\n",
       "0  52406          0.581444                   Guatemala: Earthquake - Jul 2025   \n",
       "1  51816          0.572952                        Colombia: Floods - Oct 2023   \n",
       "2  51819          0.572744  Dominican Republic: Floods and Landslides - No...   \n",
       "3  52399          0.568280        Venezuela: Floods and Landslides - Jun 2025   \n",
       "4  51951          0.567555                         Uruguay: Floods - Mar 2024   \n",
       "\n",
       "                                         description  \\\n",
       "0  Since 8 July, a series of earthquakes has seve...   \n",
       "1  Since 30 October, there have been heavy and pr...   \n",
       "2  Since 17 November, a tropical depression has b...   \n",
       "3  The passage of Tropical Wave number 9 through ...   \n",
       "4  Between March 16 and 22, Uruguay experienced a...   \n",
       "\n",
       "                              country   status         type  \\\n",
       "0                           Guatemala  ongoing   Earthquake   \n",
       "1                            Colombia     past        Flood   \n",
       "2                  Dominican Republic     past  Flash Flood   \n",
       "3  Venezuela (Bolivarian Republic of)  ongoing        Flood   \n",
       "4                             Uruguay     past        Flood   \n",
       "\n",
       "                       date  \n",
       "0 2025-07-30 00:49:38+00:00  \n",
       "1 2024-04-25 18:07:17+00:00  \n",
       "2 2024-01-11 06:01:47+00:00  \n",
       "3 2025-07-10 08:26:26+00:00  \n",
       "4 2024-06-10 17:10:04+00:00  "
      ]
     },
     "execution_count": 39,
     "metadata": {},
     "output_type": "execute_result"
    }
   ],
   "source": [
    "refine_retrieved_df"
   ]
  },
  {
   "cell_type": "code",
   "execution_count": 64,
   "metadata": {
    "tags": []
   },
   "outputs": [],
   "source": [
    "refine_retrieved_df_vertex = pd.concat([results_df_vertex.drop(['embedding_metadata'], axis=1),\n",
    "                results_df_vertex['embedding_metadata'].apply(pd.Series)], axis=1)\n",
    "refine_retrieved_df_vertex[\"date\"] = pd.to_datetime(refine_retrieved_df_vertex[\"date\"])"
   ]
  },
  {
   "cell_type": "code",
   "execution_count": 65,
   "metadata": {
    "tags": []
   },
   "outputs": [
    {
     "data": {
      "text/html": [
       "<div>\n",
       "<style scoped>\n",
       "    .dataframe tbody tr th:only-of-type {\n",
       "        vertical-align: middle;\n",
       "    }\n",
       "\n",
       "    .dataframe tbody tr th {\n",
       "        vertical-align: top;\n",
       "    }\n",
       "\n",
       "    .dataframe thead th {\n",
       "        text-align: right;\n",
       "    }\n",
       "</style>\n",
       "<table border=\"1\" class=\"dataframe\">\n",
       "  <thead>\n",
       "    <tr style=\"text-align: right;\">\n",
       "      <th></th>\n",
       "      <th>id</th>\n",
       "      <th>embedding_metadata</th>\n",
       "      <th>similarity_score</th>\n",
       "    </tr>\n",
       "  </thead>\n",
       "  <tbody>\n",
       "    <tr>\n",
       "      <th>0</th>\n",
       "      <td>51816</td>\n",
       "      <td>{'title': 'Colombia: Floods - Oct 2023', 'desc...</td>\n",
       "      <td>0.566440</td>\n",
       "    </tr>\n",
       "    <tr>\n",
       "      <th>1</th>\n",
       "      <td>52406</td>\n",
       "      <td>{'title': 'Guatemala: Earthquake - Jul 2025', ...</td>\n",
       "      <td>0.557235</td>\n",
       "    </tr>\n",
       "    <tr>\n",
       "      <th>2</th>\n",
       "      <td>51894</td>\n",
       "      <td>{'title': 'Colombia: Drought and Wild Fires - ...</td>\n",
       "      <td>0.553027</td>\n",
       "    </tr>\n",
       "    <tr>\n",
       "      <th>3</th>\n",
       "      <td>52399</td>\n",
       "      <td>{'title': 'Venezuela: Floods and Landslides - ...</td>\n",
       "      <td>0.552277</td>\n",
       "    </tr>\n",
       "    <tr>\n",
       "      <th>4</th>\n",
       "      <td>51849</td>\n",
       "      <td>{'title': 'Argentina: Severe Local Storm - Dec...</td>\n",
       "      <td>0.548494</td>\n",
       "    </tr>\n",
       "  </tbody>\n",
       "</table>\n",
       "</div>"
      ],
      "text/plain": [
       "      id                                 embedding_metadata  similarity_score\n",
       "0  51816  {'title': 'Colombia: Floods - Oct 2023', 'desc...          0.566440\n",
       "1  52406  {'title': 'Guatemala: Earthquake - Jul 2025', ...          0.557235\n",
       "2  51894  {'title': 'Colombia: Drought and Wild Fires - ...          0.553027\n",
       "3  52399  {'title': 'Venezuela: Floods and Landslides - ...          0.552277\n",
       "4  51849  {'title': 'Argentina: Severe Local Storm - Dec...          0.548494"
      ]
     },
     "execution_count": 65,
     "metadata": {},
     "output_type": "execute_result"
    }
   ],
   "source": [
    "results_df_vertex"
   ]
  },
  {
   "cell_type": "markdown",
   "metadata": {
    "tags": []
   },
   "source": [
    "### Streamlit via Ngrok"
   ]
  },
  {
   "cell_type": "code",
   "execution_count": 62,
   "metadata": {
    "tags": []
   },
   "outputs": [
    {
     "name": "stdout",
     "output_type": "stream",
     "text": [
      "Collecting ngrok\n",
      "  Downloading ngrok-1.4.0-cp37-abi3-manylinux_2_17_x86_64.manylinux2014_x86_64.whl.metadata (19 kB)\n",
      "Downloading ngrok-1.4.0-cp37-abi3-manylinux_2_17_x86_64.manylinux2014_x86_64.whl (3.1 MB)\n",
      "\u001b[2K   \u001b[90m━━━━━━━━━━━━━━━━━━━━━━━━━━━━━━━━━━━━━━━━\u001b[0m \u001b[32m3.1/3.1 MB\u001b[0m \u001b[31m43.4 MB/s\u001b[0m  \u001b[33m0:00:00\u001b[0m\n",
      "\u001b[?25hInstalling collected packages: ngrok\n",
      "Successfully installed ngrok-1.4.0\n"
     ]
    }
   ],
   "source": [
    "!pip install ngrok"
   ]
  },
  {
   "cell_type": "code",
   "execution_count": 66,
   "metadata": {
    "tags": []
   },
   "outputs": [],
   "source": [
    "from pyngrok import ngrok\n",
    "ngrok_api_key = os.getenv(\"NGROK_API_KEY\")\n",
    "ngrok.set_auth_token(ngrok_api_key)"
   ]
  },
  {
   "cell_type": "code",
   "execution_count": 67,
   "metadata": {
    "tags": []
   },
   "outputs": [
    {
     "name": "stdout",
     "output_type": "stream",
     "text": [
      "[]\n"
     ]
    }
   ],
   "source": [
    "print(ngrok.get_tunnels())"
   ]
  },
  {
   "cell_type": "code",
   "execution_count": null,
   "metadata": {
    "tags": []
   },
   "outputs": [],
   "source": [
    "import subprocess\n",
    "import time\n",
    "\n",
    "# Run streamlit app in background on port 8501\n",
    "command = [\"streamlit\", \"run\", \"app.py\", \"--server.port\", \"8518\", \"--server.headless\", \"true\"]\n",
    "proc = subprocess.Popen(command)\n",
    "\n",
    "ngrok.kill()\n",
    "# Wait for Streamlit app to start\n",
    "time.sleep(5)\n",
    "\n",
    "# Create ngrok tunnel to expose port 8501\n",
    "public_url = ngrok.connect(8518)\n",
    "print(f\"Streamlit app available at: {public_url}\")"
   ]
  },
  {
   "cell_type": "code",
   "execution_count": 74,
   "metadata": {},
   "outputs": [],
   "source": [
    "ngrok.kill()"
   ]
  },
  {
   "cell_type": "code",
   "execution_count": null,
   "metadata": {},
   "outputs": [],
   "source": []
  }
 ],
 "metadata": {
  "environment": {
   "kernel": "conda-base-py",
   "name": "workbench-notebooks.m134",
   "type": "gcloud",
   "uri": "us-docker.pkg.dev/deeplearning-platform-release/gcr.io/workbench-notebooks:m134"
  },
  "kernelspec": {
   "display_name": "Python 3 (ipykernel) (Local)",
   "language": "python",
   "name": "conda-base-py"
  },
  "language_info": {
   "codemirror_mode": {
    "name": "ipython",
    "version": 3
   },
   "file_extension": ".py",
   "mimetype": "text/x-python",
   "name": "python",
   "nbconvert_exporter": "python",
   "pygments_lexer": "ipython3",
   "version": "3.10.18"
  }
 },
 "nbformat": 4,
 "nbformat_minor": 4
}
